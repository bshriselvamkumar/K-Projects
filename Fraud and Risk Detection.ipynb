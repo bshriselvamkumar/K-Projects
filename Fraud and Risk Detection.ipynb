{
 "cells": [
  {
   "cell_type": "code",
   "execution_count": 2,
   "id": "52d8e39b-9720-47aa-83ee-82d4264521a7",
   "metadata": {},
   "outputs": [
    {
     "name": "stdout",
     "output_type": "stream",
     "text": [
      "Classification Report:\n",
      "              precision    recall  f1-score   support\n",
      "\n",
      "           0       0.93      0.86      0.90      5873\n",
      "           1       0.87      0.94      0.90      5872\n",
      "\n",
      "    accuracy                           0.90     11745\n",
      "   macro avg       0.90      0.90      0.90     11745\n",
      "weighted avg       0.90      0.90      0.90     11745\n",
      "\n",
      "AUC: 0.9637886467002972\n",
      "Improved model saved as 'best_fraud_detection_model_improved.sav'\n"
     ]
    }
   ],
   "source": [
    "from sklearn.ensemble import RandomForestClassifier\n",
    "from sklearn.model_selection import train_test_split, GridSearchCV\n",
    "from sklearn.metrics import classification_report, roc_auc_score\n",
    "from sklearn.utils import resample\n",
    "from sklearn.pipeline import Pipeline\n",
    "from imblearn.over_sampling import SMOTE\n",
    "from sklearn.preprocessing import StandardScaler\n",
    "import pandas as pd\n",
    "import numpy as np\n",
    "from joblib import dump\n",
    "\n",
    "# Load the dataset\n",
    "df = pd.read_csv(\"transaction_data.csv\")\n",
    "\n",
    "# Feature and label split\n",
    "X = df.drop(columns=['transaction_id', 'is_fraud'])\n",
    "y = df['is_fraud']\n",
    "\n",
    "# Oversample the minority class using SMOTE\n",
    "smote = SMOTE(random_state=42)\n",
    "X_resampled, y_resampled = smote.fit_resample(X, y)\n",
    "\n",
    "# Train-test split\n",
    "X_train, X_test, y_train, y_test = train_test_split(X_resampled, y_resampled, test_size=0.3, random_state=42, stratify=y_resampled)\n",
    "\n",
    "# Define a Random Forest Classifier with GridSearchCV\n",
    "pipeline = Pipeline([\n",
    "    ('scaler', StandardScaler()),\n",
    "    ('model', RandomForestClassifier(random_state=42, class_weight='balanced'))\n",
    "])\n",
    "\n",
    "param_grid = {\n",
    "    'model__n_estimators': [100, 200],\n",
    "    'model__max_depth': [10, 20, None],\n",
    "    'model__min_samples_split': [2, 5, 10]\n",
    "}\n",
    "\n",
    "grid_search = GridSearchCV(pipeline, param_grid, cv=3, scoring='roc_auc', n_jobs=-1)\n",
    "grid_search.fit(X_train, y_train)\n",
    "\n",
    "# Best model evaluation\n",
    "best_model = grid_search.best_estimator_\n",
    "y_pred = best_model.predict(X_test)\n",
    "y_pred_proba = best_model.predict_proba(X_test)[:, 1]\n",
    "\n",
    "print(\"Classification Report:\")\n",
    "print(classification_report(y_test, y_pred))\n",
    "print(f\"AUC: {roc_auc_score(y_test, y_pred_proba)}\")\n",
    "\n",
    "# Save the best model\n",
    "dump(best_model, \"best_fraud_detection_model_improved.sav\")\n",
    "print(\"Improved model saved as 'best_fraud_detection_model_improved.sav'\")\n"
   ]
  },
  {
   "cell_type": "code",
   "execution_count": null,
   "id": "bc888f8e-35af-4c77-ac29-03b55ff68be6",
   "metadata": {},
   "outputs": [],
   "source": []
  },
  {
   "cell_type": "code",
   "execution_count": null,
   "id": "cbcf1917-e366-411c-97ad-b7ceaf87e4ef",
   "metadata": {},
   "outputs": [],
   "source": []
  },
  {
   "cell_type": "code",
   "execution_count": null,
   "id": "a8b0a058-862c-4640-a5d7-072e50e45113",
   "metadata": {},
   "outputs": [],
   "source": []
  }
 ],
 "metadata": {
  "kernelspec": {
   "display_name": "Python 3 (ipykernel)",
   "language": "python",
   "name": "python3"
  },
  "language_info": {
   "codemirror_mode": {
    "name": "ipython",
    "version": 3
   },
   "file_extension": ".py",
   "mimetype": "text/x-python",
   "name": "python",
   "nbconvert_exporter": "python",
   "pygments_lexer": "ipython3",
   "version": "3.12.7"
  }
 },
 "nbformat": 4,
 "nbformat_minor": 5
}
